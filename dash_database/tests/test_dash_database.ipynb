{
 "cells": [
  {
   "cell_type": "code",
   "execution_count": 1,
   "metadata": {},
   "outputs": [],
   "source": [
    "\"\"\"Additional tests (there are already tests with doctest) for dash_database.DashDatabase class.\"\"\"\n",
    "\n",
    "from dash_database import DashDatabase"
   ]
  },
  {
   "cell_type": "markdown",
   "metadata": {},
   "source": [
    "# Check if errors are successfully raised"
   ]
  },
  {
   "cell_type": "code",
   "execution_count": 2,
   "metadata": {},
   "outputs": [
    {
     "name": "stdout",
     "output_type": "stream",
     "text": [
      "the type user_id can only be one of (<class 'str'>, <class 'int'>) (for stability reasons as other types were not tested)\n",
      "the type user_id can only be one of (<class 'str'>, <class 'int'>) (for stability reasons as other types were not tested)\n",
      "the type key_name can only be one of (<class 'str'>, <class 'int'>) (for stability reasons as other types were not tested)\n",
      "'123_test'\n",
      "if_not_exists must be either \"ignore\" or \"raise\"\n"
     ]
    }
   ],
   "source": [
    "dash_db = DashDatabase()\n",
    "\n",
    "# store user value with wrong type for user_id\n",
    "try:\n",
    "    dash_db.store_user_value(user_id = ['test'], key_name = 'test', value = 'test')\n",
    "except TypeError as e:\n",
    "    print(e)\n",
    "    \n",
    "# get user value with wrong type for user_id\n",
    "try:\n",
    "    dash_db.get_user_value(user_id = ['test'], key_name = 'test')\n",
    "except TypeError as e:\n",
    "    print(e)\n",
    "    \n",
    "# get user value with wrong type for key_name\n",
    "try:\n",
    "    dash_db.get_user_value(user_id = 'test', key_name = ['test'])\n",
    "except TypeError as e:\n",
    "    print(e)\n",
    "    \n",
    "# delete value from non existing key with if_not_exists = 'raise'\n",
    "try:\n",
    "    dash_db.delete_user_value(user_id = 123, key_name = 'test', if_not_exists = 'raise')\n",
    "except KeyError as e:\n",
    "    print(e)\n",
    "    \n",
    "# use other value than 'raise' or 'ignore' for if_not_exists\n",
    "try:\n",
    "    dash_db.delete_user_value(user_id = 123, key_name = 'test', if_not_exists = 'banana')\n",
    "except ValueError as e:\n",
    "    print(e)"
   ]
  },
  {
   "cell_type": "markdown",
   "metadata": {},
   "source": [
    "# Other tests not covered by doctest"
   ]
  },
  {
   "cell_type": "code",
   "execution_count": 3,
   "metadata": {},
   "outputs": [
    {
     "data": {
      "text/plain": [
       "DashDatabase at \":memory:\""
      ]
     },
     "execution_count": 3,
     "metadata": {},
     "output_type": "execute_result"
    }
   ],
   "source": [
    "# delete non existing key with if_not_exists = 'ignore'\n",
    "dash_db.delete_user_value(user_id = 123, key_name = 'test', if_not_exists = 'ignore')\n",
    "\n",
    "# representation of DashDatabase\n",
    "dash_db"
   ]
  }
 ],
 "metadata": {
  "kernelspec": {
   "display_name": "Python 3",
   "language": "python",
   "name": "python3"
  },
  "language_info": {
   "codemirror_mode": {
    "name": "ipython",
    "version": 3
   },
   "file_extension": ".py",
   "mimetype": "text/x-python",
   "name": "python",
   "nbconvert_exporter": "python",
   "pygments_lexer": "ipython3",
   "version": "3.7.3"
  }
 },
 "nbformat": 4,
 "nbformat_minor": 4
}
